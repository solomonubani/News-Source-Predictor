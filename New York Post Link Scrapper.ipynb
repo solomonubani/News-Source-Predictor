{
 "cells": [
  {
   "cell_type": "code",
   "execution_count": 25,
   "metadata": {},
   "outputs": [],
   "source": [
    "from selenium import webdriver\n",
    "from selenium.webdriver.chrome.options import Options"
   ]
  },
  {
   "cell_type": "code",
   "execution_count": 26,
   "metadata": {},
   "outputs": [],
   "source": [
    "#options = webdriver.ChromeOptions() \n",
    "#options.setPageLoadStrategy(PageLoadStrategy.NONE); #// https://www.skptricks.com/2018/08/timed-out-receiving-message-from-renderer-selenium.html\n",
    "#options.add_argument(\"start-maximized\"); #// https://stackoverflow.com/a/26283818/1689770\n",
    "#options.add_argument(\"enable-automation\"); #// https://stackoverflow.com/a/43840128/1689770\n",
    "#options.add_argument(\"--headless\"); #// only if you are ACTUALLY running headless\n",
    "#options.add_argument(\"--no-sandbox\"); #//https://stackoverflow.com/a/50725918/1689770\n",
    "#options.add_argument(\"--disable-infobars\"); #//https://stackoverflow.com/a/43840128/1689770\n",
    "#options.add_argument(\"--disable-dev-shm-usage\"); #//https://stackoverflow.com/a/50725918/1689770\n",
    "#options.add_argument(\"--disable-browser-side-navigation\"); #//https://stackoverflow.com/a/49123152/1689770\n",
    "#options.add_argument(\"--disable-gpu\"); #//https://stackoverflow.com/questions/51959986/how-to-solve-selenium-chromedriver-timed-out-receiving-message-from-renderer-exc\n",
    "driver = webdriver.Chrome(executable_path='C:\\\\chromedriver')#, options=options)"
   ]
  },
  {
   "cell_type": "code",
   "execution_count": 27,
   "metadata": {},
   "outputs": [],
   "source": [
    "def getData(url):    \n",
    "    driver.get(url)  \n",
    "    try:\n",
    "        topic = driver.find_elements_by_tag_name(\"h1\")[0].text\n",
    "    except IndexError: \n",
    "        topic = \"\"\n",
    "    try:\n",
    "        body = driver.find_elements_by_class_name(\"entry-content-read-more\")[0].text \n",
    "    except IndexError:\n",
    "        body=\"\"\n",
    "    return topic, body"
   ]
  },
  {
   "cell_type": "code",
   "execution_count": 28,
   "metadata": {},
   "outputs": [
    {
     "name": "stdout",
     "output_type": "stream",
     "text": [
      "1462\n"
     ]
    }
   ],
   "source": [
    "li_list = []\n",
    "link_file = open(\"opinionfinal_New_York_url.txt\",\"r\") \n",
    "li_list.append(link_file.readlines())\n",
    "link_file.close() \n",
    "link_list = []\n",
    "print (len(li_list[0]))\n",
    "for i in li_list[0][1000:]:\n",
    "    if (i[:20]!=\"https://pagesix.com/\"):\n",
    "        link_list.append(i.strip(\"\\n\"))"
   ]
  },
  {
   "cell_type": "code",
   "execution_count": 29,
   "metadata": {},
   "outputs": [],
   "source": [
    "import time\n",
    "topics, bodies =[], []\n",
    "for link in link_list:\n",
    "    time.sleep(2.85)\n",
    "    topic, body = getData(link)\n",
    "    if topic != \"\" and body != \"\":\n",
    "        topic = topic.encode('ascii',errors='ignore')\n",
    "        topics.append(topic)\n",
    "        body = body.encode('ascii',errors='ignore')\n",
    "        bodies.append(body)"
   ]
  },
  {
   "cell_type": "code",
   "execution_count": 30,
   "metadata": {},
   "outputs": [],
   "source": [
    "import csv\n",
    "with open('opinionnews.csv', 'a', newline='') as file:\n",
    "    writer = csv.writer(file)\n",
    "    #writer.writerow([\"article\", \"source\"])\n",
    "    final_text = \"\"\n",
    "    for topic, body in zip(topics, bodies):\n",
    "        #final_text += topic + \"\\n\" + body + \"\\n\" + \"***\"+ \"\\n\"\n",
    "        writer.writerow([topic + \"\\n\".encode() + body + \"\\n\".encode(), \"1\"])"
   ]
  },
  {
   "cell_type": "code",
   "execution_count": 31,
   "metadata": {},
   "outputs": [],
   "source": [
    "#with open(\"final_New_York.txt\", \"w\", encoding=\"utf-8\") as file:\n",
    " #   file.write(final_text)"
   ]
  },
  {
   "cell_type": "code",
   "execution_count": null,
   "metadata": {},
   "outputs": [],
   "source": []
  }
 ],
 "metadata": {
  "kernelspec": {
   "display_name": "Python 3",
   "language": "python",
   "name": "python3"
  },
  "language_info": {
   "codemirror_mode": {
    "name": "ipython",
    "version": 3
   },
   "file_extension": ".py",
   "mimetype": "text/x-python",
   "name": "python",
   "nbconvert_exporter": "python",
   "pygments_lexer": "ipython3",
   "version": "3.7.3"
  }
 },
 "nbformat": 4,
 "nbformat_minor": 2
}
