{
 "cells": [
  {
   "cell_type": "code",
   "execution_count": 9,
   "metadata": {},
   "outputs": [],
   "source": [
    "from selenium import webdriver"
   ]
  },
  {
   "cell_type": "code",
   "execution_count": 10,
   "metadata": {},
   "outputs": [],
   "source": [
    "driver = webdriver.Chrome(executable_path='C:\\\\chromedriver')"
   ]
  },
  {
   "cell_type": "code",
   "execution_count": 11,
   "metadata": {},
   "outputs": [],
   "source": [
    "length = 619"
   ]
  },
  {
   "cell_type": "code",
   "execution_count": 12,
   "metadata": {},
   "outputs": [],
   "source": [
    "def getData(url):\n",
    "    driver.get(url)\n",
    "    topic_list = driver.find_elements_by_class_name(\"cnn-search__result-headline\")\n",
    "    body_list = driver.find_elements_by_class_name(\"cnn-search__result-body\")\n",
    "    topics, bodies = [], []\n",
    "    for topic, body in zip(topic_list, body_list):\n",
    "        topics.append(topic.text)\n",
    "        bodies.append(body.text)\n",
    "    return topics, bodies"
   ]
  },
  {
   "cell_type": "code",
   "execution_count": 13,
   "metadata": {},
   "outputs": [],
   "source": [
    "topics, bodies =[], []\n",
    "for i in range(length):\n",
    "    topic, body = getData(\"https://www.cnn.com/search?q=trump&size=10&page=\"+str(i+1)+\"&from=\"+str(i)+\"0\"+\"&category=opinion\")\n",
    "    topics.append(topic)\n",
    "    bodies.append(body)"
   ]
  },
  {
   "cell_type": "code",
   "execution_count": 14,
   "metadata": {},
   "outputs": [],
   "source": [
    "#import csv\n",
    "#with open('news.csv', 'w', newline='') as file:\n",
    " #   writer = csv.writer(file)\n",
    "  #  writer.writerow([\"article\", \"source\"])"
   ]
  },
  {
   "cell_type": "code",
   "execution_count": 15,
   "metadata": {},
   "outputs": [],
   "source": [
    "final_topics, final_bodies = [], []\n",
    "for i in range(length):\n",
    "    for j in range(10):\n",
    "        try:\n",
    "            final_topics.append(topics[i][j])\n",
    "            final_bodies.append(bodies[i][j])\n",
    "        except:\n",
    "            continue"
   ]
  },
  {
   "cell_type": "code",
   "execution_count": null,
   "metadata": {},
   "outputs": [],
   "source": []
  },
  {
   "cell_type": "code",
   "execution_count": 16,
   "metadata": {},
   "outputs": [],
   "source": [
    "import csv\n",
    "with open('opinionnews.csv', 'w', newline='') as file:\n",
    "    writer = csv.writer(file)\n",
    "    writer.writerow([\"article\", \"source\"])\n",
    "    final_text = \"\"\n",
    "    for i in range(length*10):\n",
    "        try:        \n",
    "            #final_text += final_topics[i] + \"\\n\" + final_bodies[i] + \"\\n\" + \"***\"+ \"\\n\"\n",
    "            writer.writerow([final_topics[i] + \"\\n\" + final_bodies[i] + \"\\n\", \"0\"])\n",
    "        except:\n",
    "            continue"
   ]
  },
  {
   "cell_type": "code",
   "execution_count": 17,
   "metadata": {},
   "outputs": [],
   "source": [
    "#with open(\"final_CNN.txt\", \"w\", encoding=\"utf-8\") as file:\n",
    " #   file.write(final_text)"
   ]
  },
  {
   "cell_type": "code",
   "execution_count": null,
   "metadata": {},
   "outputs": [],
   "source": []
  }
 ],
 "metadata": {
  "kernelspec": {
   "display_name": "Python 3",
   "language": "python",
   "name": "python3"
  },
  "language_info": {
   "codemirror_mode": {
    "name": "ipython",
    "version": 3
   },
   "file_extension": ".py",
   "mimetype": "text/x-python",
   "name": "python",
   "nbconvert_exporter": "python",
   "pygments_lexer": "ipython3",
   "version": "3.7.3"
  }
 },
 "nbformat": 4,
 "nbformat_minor": 2
}
